{
 "cells": [
  {
   "cell_type": "code",
   "execution_count": 2,
   "metadata": {},
   "outputs": [
    {
     "name": "stdout",
     "output_type": "stream",
     "text": [
      "Test accuracy: 0.956\n"
     ]
    }
   ],
   "source": [
    "import pandas as pd\n",
    "from sklearn.preprocessing import LabelEncoder\n",
    "from sklearn.model_selection import train_test_split\n",
    "from sklearn.preprocessing import StandardScaler\n",
    "from sklearn.decomposition import PCA\n",
    "from sklearn.ensemble import RandomForestClassifier\n",
    "from sklearn.pipeline import make_pipeline\n",
    " \n",
    "df = pd.read_csv('https://archive.ics.uci.edu/ml/'\n",
    "                 'machine-learning-databases'\n",
    "                 '/breast-cancer-wisconsin/wdbc.data', header=None)\n",
    "#\n",
    "# Encode the label using LabelEncoder\n",
    "#\n",
    "X = df.loc[:, 2:].values\n",
    "y = df.loc[:, 1].values\n",
    "le = LabelEncoder()\n",
    "y = le.fit_transform(y)\n",
    "#\n",
    "# Create training and test data\n",
    "#\n",
    "X_train, X_test, y_train, y_test = train_test_split(X, y, test_size=0.20, stratify=y, random_state=1)\n",
    "#\n",
    "#v Create a pipeline and fit the model\n",
    "#\n",
    "pipe_lr = make_pipeline(StandardScaler(),\n",
    "                        PCA(n_components=2),\n",
    "                        RandomForestClassifier(criterion='gini', n_estimators=50, max_depth=5, random_state=1))\n",
    " \n",
    "pipe_lr.fit(X_train, y_train)\n",
    "y_pred = pipe_lr.predict(X_test)\n",
    "test_acc = pipe_lr.score(X_test, y_test)\n",
    "print(f'Test accuracy: {test_acc:.3f}')"
   ]
  },
  {
   "cell_type": "code",
   "execution_count": 4,
   "metadata": {},
   "outputs": [
    {
     "name": "stdout",
     "output_type": "stream",
     "text": [
      "Collecting baseten\n",
      "  Downloading baseten-0.2.8-py3-none-any.whl (22 kB)\n",
      "Requirement already satisfied: joblib>=0.12.5 in /opt/conda/lib/python3.7/site-packages (from baseten) (0.14.1)\n",
      "Requirement already satisfied: jinja2>=2.10.3 in /opt/conda/lib/python3.7/site-packages (from baseten) (3.1.2)\n",
      "Collecting truss<0.2.0,>=0.1.0\n",
      "  Downloading truss-0.1.1-py3-none-any.whl (106 kB)\n",
      "\u001b[2K     \u001b[90m━━━━━━━━━━━━━━━━━━━━━━━━━━━━━━━━━━━━━━━\u001b[0m \u001b[32m106.6/106.6 kB\u001b[0m \u001b[31m1.2 MB/s\u001b[0m eta \u001b[36m0:00:00\u001b[0ma \u001b[36m0:00:01\u001b[0m\n",
      "\u001b[?25hRequirement already satisfied: pyyaml>=5.1 in /opt/conda/lib/python3.7/site-packages (from baseten) (6.0)\n",
      "Requirement already satisfied: tenacity<9.0.0,>=8.0.1 in /opt/conda/lib/python3.7/site-packages (from baseten) (8.0.1)\n",
      "Collecting tqdm<5.0.0,>=4.62.1\n",
      "  Downloading tqdm-4.64.1-py2.py3-none-any.whl (78 kB)\n",
      "\u001b[2K     \u001b[90m━━━━━━━━━━━━━━━━━━━━━━━━━━━━━━━━━━━━━━━━\u001b[0m \u001b[32m78.5/78.5 kB\u001b[0m \u001b[31m1.2 MB/s\u001b[0m eta \u001b[36m0:00:00\u001b[0mta \u001b[36m0:00:01\u001b[0m\n",
      "\u001b[?25hCollecting semantic-version<3.0.0,>=2.10.0\n",
      "  Downloading semantic_version-2.10.0-py2.py3-none-any.whl (15 kB)\n",
      "Collecting coolname>=1.1.0\n",
      "  Downloading coolname-2.0.0-py2.py3-none-any.whl (37 kB)\n",
      "Requirement already satisfied: colorama>=0.4.3 in /opt/conda/lib/python3.7/site-packages (from baseten) (0.4.3)\n",
      "Requirement already satisfied: requests>=2.22 in /opt/conda/lib/python3.7/site-packages (from baseten) (2.28.1)\n",
      "Collecting requests-toolbelt<0.10.0,>=0.9.1\n",
      "  Downloading requests_toolbelt-0.9.1-py2.py3-none-any.whl (54 kB)\n",
      "\u001b[2K     \u001b[90m━━━━━━━━━━━━━━━━━━━━━━━━━━━━━━━━━━━━━━━━\u001b[0m \u001b[32m54.3/54.3 kB\u001b[0m \u001b[31m1.2 MB/s\u001b[0m eta \u001b[36m0:00:00\u001b[0mta \u001b[36m0:00:01\u001b[0m\n",
      "\u001b[?25hCollecting single-source<0.4.0,>=0.3.0\n",
      "  Downloading single_source-0.3.0-py3-none-any.whl (5.7 kB)\n",
      "Requirement already satisfied: click>=7.0 in /opt/conda/lib/python3.7/site-packages (from baseten) (7.0)\n",
      "Requirement already satisfied: MarkupSafe>=2.0 in /opt/conda/lib/python3.7/site-packages (from jinja2>=2.10.3->baseten) (2.1.1)\n",
      "Requirement already satisfied: urllib3<1.27,>=1.21.1 in /opt/conda/lib/python3.7/site-packages (from requests>=2.22->baseten) (1.26.12)\n",
      "Requirement already satisfied: certifi>=2017.4.17 in /opt/conda/lib/python3.7/site-packages (from requests>=2.22->baseten) (2022.6.15)\n",
      "Requirement already satisfied: idna<4,>=2.5 in /opt/conda/lib/python3.7/site-packages (from requests>=2.22->baseten) (2.8)\n",
      "Requirement already satisfied: charset-normalizer<3,>=2 in /opt/conda/lib/python3.7/site-packages (from requests>=2.22->baseten) (2.0.4)\n",
      "Requirement already satisfied: importlib_metadata<5,>=3.0 in /opt/conda/lib/python3.7/site-packages (from single-source<0.4.0,>=0.3.0->baseten) (4.12.0)\n",
      "Collecting packaging<21.0,>=20.9\n",
      "  Downloading packaging-20.9-py2.py3-none-any.whl (40 kB)\n",
      "\u001b[2K     \u001b[90m━━━━━━━━━━━━━━━━━━━━━━━━━━━━━━━━━━━━━━━\u001b[0m \u001b[32m40.9/40.9 kB\u001b[0m \u001b[31m954.4 kB/s\u001b[0m eta \u001b[36m0:00:00\u001b[0m\n",
      "\u001b[?25hCollecting msgpack-numpy>=0.4.7.1\n",
      "  Downloading msgpack_numpy-0.4.8-py2.py3-none-any.whl (6.9 kB)\n",
      "Collecting python-on-whales<0.47.0,>=0.46.0\n",
      "  Downloading python_on_whales-0.46.0-py3-none-any.whl (94 kB)\n",
      "\u001b[2K     \u001b[90m━━━━━━━━━━━━━━━━━━━━━━━━━━━━━━━━━━━━━━━━\u001b[0m \u001b[32m94.7/94.7 kB\u001b[0m \u001b[31m1.7 MB/s\u001b[0m eta \u001b[36m0:00:00\u001b[0mta \u001b[36m0:00:01\u001b[0m\n",
      "\u001b[?25hCollecting python-json-logger>=2.0.2\n",
      "  Downloading python_json_logger-2.0.4-py3-none-any.whl (7.8 kB)\n",
      "Requirement already satisfied: numpy>=1.18 in /opt/conda/lib/python3.7/site-packages (from truss<0.2.0,>=0.1.0->baseten) (1.21.6)\n",
      "Collecting msgpack>=1.0.2\n",
      "  Downloading msgpack-1.0.4-cp37-cp37m-manylinux_2_17_x86_64.manylinux2014_x86_64.whl (299 kB)\n",
      "\u001b[2K     \u001b[90m━━━━━━━━━━━━━━━━━━━━━━━━━━━━━━━━━━━━━━━\u001b[0m \u001b[32m299.8/299.8 kB\u001b[0m \u001b[31m4.4 MB/s\u001b[0m eta \u001b[36m0:00:00\u001b[0m00:01\u001b[0m\n",
      "\u001b[?25hRequirement already satisfied: typing-extensions>=3.6.4 in /opt/conda/lib/python3.7/site-packages (from importlib_metadata<5,>=3.0->single-source<0.4.0,>=0.3.0->baseten) (4.3.0)\n",
      "Requirement already satisfied: zipp>=0.5 in /opt/conda/lib/python3.7/site-packages (from importlib_metadata<5,>=3.0->single-source<0.4.0,>=0.3.0->baseten) (3.8.1)\n",
      "Requirement already satisfied: pyparsing>=2.0.2 in /opt/conda/lib/python3.7/site-packages (from packaging<21.0,>=20.9->truss<0.2.0,>=0.1.0->baseten) (2.4.6)\n",
      "Collecting pydantic\n",
      "  Downloading pydantic-1.10.2-cp37-cp37m-manylinux_2_17_x86_64.manylinux2014_x86_64.whl (11.8 MB)\n",
      "\u001b[2K     \u001b[90m━━━━━━━━━━━━━━━━━━━━━━━━━━━━━━━━━━━━━━━━\u001b[0m \u001b[32m11.8/11.8 MB\u001b[0m \u001b[31m45.4 MB/s\u001b[0m eta \u001b[36m0:00:00\u001b[0m00:01\u001b[0m00:01\u001b[0m\n",
      "\u001b[?25hCollecting typer>=0.4.1\n",
      "  Downloading typer-0.6.1-py3-none-any.whl (38 kB)\n",
      "Collecting click>=7.0\n",
      "  Downloading click-8.1.3-py3-none-any.whl (96 kB)\n",
      "\u001b[2K     \u001b[90m━━━━━━━━━━━━━━━━━━━━━━━━━━━━━━━━━━━━━━━━\u001b[0m \u001b[32m96.6/96.6 kB\u001b[0m \u001b[31m1.8 MB/s\u001b[0m eta \u001b[36m0:00:00\u001b[0mta \u001b[36m0:00:01\u001b[0m\n",
      "\u001b[?25hInstalling collected packages: msgpack, coolname, tqdm, semantic-version, python-json-logger, pydantic, packaging, msgpack-numpy, single-source, requests-toolbelt, click, typer, python-on-whales, truss, baseten\n",
      "  Attempting uninstall: msgpack\n",
      "    Found existing installation: msgpack 0.6.1\n",
      "    Uninstalling msgpack-0.6.1:\n",
      "      Successfully uninstalled msgpack-0.6.1\n",
      "  Attempting uninstall: tqdm\n",
      "    Found existing installation: tqdm 4.42.1\n",
      "    Uninstalling tqdm-4.42.1:\n",
      "      Successfully uninstalled tqdm-4.42.1\n",
      "  Attempting uninstall: packaging\n",
      "    Found existing installation: packaging 20.1\n",
      "    Uninstalling packaging-20.1:\n",
      "      Successfully uninstalled packaging-20.1\n",
      "  Attempting uninstall: click\n",
      "    Found existing installation: Click 7.0\n",
      "    Uninstalling Click-7.0:\n",
      "      Successfully uninstalled Click-7.0\n",
      "\u001b[31mERROR: pip's dependency resolver does not currently take into account all the packages that are installed. This behaviour is the source of the following dependency conflicts.\n",
      "pytest-astropy 0.8.0 requires pytest-cov>=2.0, which is not installed.\n",
      "pytest-astropy 0.8.0 requires pytest-filter-subpackage>=0.1, which is not installed.\u001b[0m\u001b[31m\n",
      "\u001b[0mSuccessfully installed baseten-0.2.8 click-8.1.3 coolname-2.0.0 msgpack-1.0.4 msgpack-numpy-0.4.8 packaging-20.9 pydantic-1.10.2 python-json-logger-2.0.4 python-on-whales-0.46.0 requests-toolbelt-0.9.1 semantic-version-2.10.0 single-source-0.3.0 tqdm-4.64.1 truss-0.1.1 typer-0.6.1\n",
      "\u001b[33mWARNING: Running pip as the 'root' user can result in broken permissions and conflicting behaviour with the system package manager. It is recommended to use a virtual environment instead: https://pip.pypa.io/warnings/venv\u001b[0m\u001b[33m\n",
      "\u001b[0m\n",
      "\u001b[1m[\u001b[0m\u001b[34;49mnotice\u001b[0m\u001b[1;39;49m]\u001b[0m\u001b[39;49m A new release of pip available: \u001b[0m\u001b[31;49m22.2.2\u001b[0m\u001b[39;49m -> \u001b[0m\u001b[32;49m22.3\u001b[0m\n",
      "\u001b[1m[\u001b[0m\u001b[34;49mnotice\u001b[0m\u001b[1;39;49m]\u001b[0m\u001b[39;49m To update, run: \u001b[0m\u001b[32;49mpip install --upgrade pip\u001b[0m\n"
     ]
    }
   ],
   "source": [
    "!pip install baseten"
   ]
  },
  {
   "cell_type": "code",
   "execution_count": 5,
   "metadata": {},
   "outputs": [],
   "source": [
    "import baseten"
   ]
  },
  {
   "cell_type": "code",
   "execution_count": 6,
   "metadata": {},
   "outputs": [
    {
     "data": {
      "text/plain": [
       "'0.2.8'"
      ]
     },
     "execution_count": 6,
     "metadata": {},
     "output_type": "execute_result"
    }
   ],
   "source": [
    "baseten.__version__"
   ]
  },
  {
   "cell_type": "code",
   "execution_count": 8,
   "metadata": {},
   "outputs": [
    {
     "name": "stderr",
     "output_type": "stream",
     "text": [
      "\u001b[32mINFO\u001b[0m API key set.\n"
     ]
    }
   ],
   "source": [
    "baseten.login(\"A3fqB8JY.1QjabBGm5ChXs8ZElfHRrSqNb3arbffd\")"
   ]
  },
  {
   "cell_type": "code",
   "execution_count": 11,
   "metadata": {},
   "outputs": [
    {
     "name": "stderr",
     "output_type": "stream",
     "text": [
      "\u001b[32mINFO\u001b[0m \n",
      "\u001b[32mINFO\u001b[0m --------------------------------------------------------------------------------------------\n",
      "\u001b[32mINFO\u001b[0m | \u001b[34m Autogenerating Truss for your model, find more about Truss at https://truss.baseten.co/ |\n",
      "\u001b[32mINFO\u001b[0m --------------------------------------------------------------------------------------------\n",
      "\u001b[32mINFO\u001b[0m You can find your auto generated Truss at \u001b[34m /root/.truss/models/sklearn-ZWVHBS\n",
      "\u001b[32mINFO\u001b[0m ---------------------------------------------------------------\n",
      "\u001b[32mINFO\u001b[0m | \u001b[34m Some useful commands to work with your Truss... |\n",
      "\u001b[32mINFO\u001b[0m ---------------------------------------------------------------\n",
      "\u001b[32mINFO\u001b[0m To load your Truss, you can either\n",
      "\u001b[32mINFO\u001b[0m 1. Access the Truss handle via the object returned by this function via \u001b[35m deployed_model.truss\n",
      "\u001b[32mINFO\u001b[0m 2. Load the Truss handle via \u001b[35m handle = truss.from_directory('/root/.truss/models/sklearn-ZWVHBS')\n",
      "\u001b[32mINFO\u001b[0m To locally run your Truss before deploying, run \u001b[35m handle.server_predict(test_input)\n",
      "\u001b[32mINFO\u001b[0m To add a requirement to your Truss, run \u001b[35m handle.add_python_requirement('numpy')\n",
      "\u001b[32mINFO\u001b[0m Visit the docs to learn more about Truss!\n",
      "\u001b[32mINFO\u001b[0m \n",
      "\u001b[32mINFO\u001b[0m Serializing \u001b[34mUpWork Pipeline\u001b[0m truss.\n",
      "\u001b[33mWARNING\u001b[0m Model name not found in deployed models\n",
      "\u001b[32mINFO\u001b[0m Making contact with BaseTen 👋 👽\n",
      "\u001b[32mINFO\u001b[0m 🚀 Uploading model to BaseTen 🚀\n",
      "Upload Progress: 100% |\u001b[34m████████████████████████████████████████████████████████████████████████████████████████████████████\u001b[39m| 38.2k/38.2k\n",
      "\u001b[32mINFO\u001b[0m 🔮 Upload successful!🔮\n",
      "\u001b[32mINFO\u001b[0m Created model:\n",
      "{\n",
      "    \"id\": \"XP9WNzB\",\n",
      "    \"name\": \"UpWork Pipeline\",\n",
      "    \"version_id\": \"6wgop63\"\n",
      "}\n",
      "\u001b[32mINFO\u001b[0m Successfully registered model \u001b[34mUpWork Pipeline\u001b[0m.\n",
      "\u001b[32mINFO\u001b[0m \u001b[34m Deploying model version.\n",
      "\u001b[32mINFO\u001b[0m 🏁 The model is being built and deployed right now 🏁\n",
      "\u001b[32mINFO\u001b[0m -----------------------------------------------------------------------\n",
      "\u001b[32mINFO\u001b[0m |  Visit \u001b[34mhttps://app.baseten.co/models/XP9WNzB\u001b[0m for deployment status  |\n",
      "\u001b[32mINFO\u001b[0m -----------------------------------------------------------------------\n"
     ]
    },
    {
     "data": {
      "text/plain": [
       "BasetenDeployedModel<\n",
       "  model_version_id=6wgop63\n",
       "  name=UpWork Pipeline\n",
       ">"
      ]
     },
     "execution_count": 11,
     "metadata": {},
     "output_type": "execute_result"
    }
   ],
   "source": [
    "baseten.deploy(pipe_lr, model_name=\"UpWork Pipeline\", is_trusted=True)"
   ]
  },
  {
   "cell_type": "code",
   "execution_count": 12,
   "metadata": {},
   "outputs": [],
   "source": [
    "import truss"
   ]
  },
  {
   "cell_type": "code",
   "execution_count": 13,
   "metadata": {},
   "outputs": [
    {
     "data": {
      "text/plain": [
       "<truss.truss_handle.TrussHandle at 0x7f57d85f6950>"
      ]
     },
     "execution_count": 13,
     "metadata": {},
     "output_type": "execute_result"
    }
   ],
   "source": [
    "truss.mk_truss(pipe_lr, target_directory=\"./hello_truss\")"
   ]
  },
  {
   "cell_type": "code",
   "execution_count": null,
   "metadata": {},
   "outputs": [],
   "source": []
  }
 ],
 "metadata": {
  "kernelspec": {
   "display_name": "Python 3 (Data Science)",
   "language": "python",
   "name": "python3__SAGEMAKER_INTERNAL__arn:aws:sagemaker:us-west-2:236514542706:image/datascience-1.0"
  },
  "language_info": {
   "codemirror_mode": {
    "name": "ipython",
    "version": 3
   },
   "file_extension": ".py",
   "mimetype": "text/x-python",
   "name": "python",
   "nbconvert_exporter": "python",
   "pygments_lexer": "ipython3",
   "version": "3.7.10"
  }
 },
 "nbformat": 4,
 "nbformat_minor": 4
}

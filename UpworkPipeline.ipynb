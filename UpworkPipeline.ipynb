{
 "cells": [
  {
   "cell_type": "code",
   "execution_count": 22,
   "metadata": {
    "tags": [
     "parameters"
    ]
   },
   "outputs": [],
   "source": [
    "truss_make_dir = \"./\"\n"
   ]
  },
  {
   "cell_type": "code",
   "execution_count": 23,
   "metadata": {},
   "outputs": [
    {
     "name": "stdout",
     "output_type": "stream",
     "text": [
      "Test accuracy: 0.956\n"
     ]
    }
   ],
   "source": [
    "import pandas as pd\n",
    "from sklearn.preprocessing import LabelEncoder\n",
    "from sklearn.model_selection import train_test_split\n",
    "from sklearn.preprocessing import StandardScaler\n",
    "from sklearn.decomposition import PCA\n",
    "from sklearn.ensemble import RandomForestClassifier\n",
    "from sklearn.pipeline import make_pipeline\n",
    " \n",
    "df = pd.read_csv('https://archive.ics.uci.edu/ml/'\n",
    "                 'machine-learning-databases'\n",
    "                 '/breast-cancer-wisconsin/wdbc.data', header=None)\n",
    "#\n",
    "# Encode the label using LabelEncoder\n",
    "#\n",
    "X = df.loc[:, 2:].values\n",
    "y = df.loc[:, 1].values\n",
    "le = LabelEncoder()\n",
    "y = le.fit_transform(y)\n",
    "#\n",
    "# Create training and test data\n",
    "#\n",
    "X_train, X_test, y_train, y_test = train_test_split(X, y, test_size=0.20, stratify=y, random_state=1)\n",
    "#\n",
    "#v Create a pipeline and fit the model\n",
    "#\n",
    "pipe_lr = make_pipeline(StandardScaler(),\n",
    "                        PCA(n_components=2),\n",
    "                        RandomForestClassifier(criterion='gini', n_estimators=50, max_depth=5, random_state=1))\n",
    " \n",
    "pipe_lr.fit(X_train, y_train)\n",
    "y_pred = pipe_lr.predict(X_test)\n",
    "test_acc = pipe_lr.score(X_test, y_test)\n",
    "print(f'Test accuracy: {test_acc:.3f}')"
   ]
  },
  {
   "cell_type": "code",
   "execution_count": 24,
   "metadata": {},
   "outputs": [
    {
     "name": "stdout",
     "output_type": "stream",
     "text": [
      "Requirement already satisfied: baseten in /opt/conda/lib/python3.7/site-packages (0.2.8)\n",
      "Requirement already satisfied: requests>=2.22 in /opt/conda/lib/python3.7/site-packages (from baseten) (2.28.1)\n",
      "Requirement already satisfied: click>=7.0 in /opt/conda/lib/python3.7/site-packages (from baseten) (8.1.3)\n",
      "Requirement already satisfied: jinja2>=2.10.3 in /opt/conda/lib/python3.7/site-packages (from baseten) (3.1.2)\n",
      "Requirement already satisfied: pyyaml>=5.1 in /opt/conda/lib/python3.7/site-packages (from baseten) (6.0)\n",
      "Requirement already satisfied: requests-toolbelt<0.10.0,>=0.9.1 in /opt/conda/lib/python3.7/site-packages (from baseten) (0.9.1)\n",
      "Requirement already satisfied: tenacity<9.0.0,>=8.0.1 in /opt/conda/lib/python3.7/site-packages (from baseten) (8.0.1)\n",
      "Requirement already satisfied: tqdm<5.0.0,>=4.62.1 in /opt/conda/lib/python3.7/site-packages (from baseten) (4.64.1)\n",
      "Requirement already satisfied: colorama>=0.4.3 in /opt/conda/lib/python3.7/site-packages (from baseten) (0.4.3)\n",
      "Requirement already satisfied: joblib>=0.12.5 in /opt/conda/lib/python3.7/site-packages (from baseten) (0.14.1)\n",
      "Requirement already satisfied: truss<0.2.0,>=0.1.0 in /opt/conda/lib/python3.7/site-packages (from baseten) (0.1.1)\n",
      "Requirement already satisfied: coolname>=1.1.0 in /opt/conda/lib/python3.7/site-packages (from baseten) (2.0.0)\n",
      "Requirement already satisfied: semantic-version<3.0.0,>=2.10.0 in /opt/conda/lib/python3.7/site-packages (from baseten) (2.10.0)\n",
      "Requirement already satisfied: single-source<0.4.0,>=0.3.0 in /opt/conda/lib/python3.7/site-packages (from baseten) (0.3.0)\n",
      "Requirement already satisfied: importlib-metadata in /opt/conda/lib/python3.7/site-packages (from click>=7.0->baseten) (4.12.0)\n",
      "Requirement already satisfied: MarkupSafe>=2.0 in /opt/conda/lib/python3.7/site-packages (from jinja2>=2.10.3->baseten) (2.1.1)\n",
      "Requirement already satisfied: idna<4,>=2.5 in /opt/conda/lib/python3.7/site-packages (from requests>=2.22->baseten) (2.8)\n",
      "Requirement already satisfied: certifi>=2017.4.17 in /opt/conda/lib/python3.7/site-packages (from requests>=2.22->baseten) (2022.6.15)\n",
      "Requirement already satisfied: charset-normalizer<3,>=2 in /opt/conda/lib/python3.7/site-packages (from requests>=2.22->baseten) (2.0.4)\n",
      "Requirement already satisfied: urllib3<1.27,>=1.21.1 in /opt/conda/lib/python3.7/site-packages (from requests>=2.22->baseten) (1.26.12)\n",
      "Requirement already satisfied: python-on-whales<0.47.0,>=0.46.0 in /opt/conda/lib/python3.7/site-packages (from truss<0.2.0,>=0.1.0->baseten) (0.46.0)\n",
      "Requirement already satisfied: python-json-logger>=2.0.2 in /opt/conda/lib/python3.7/site-packages (from truss<0.2.0,>=0.1.0->baseten) (2.0.4)\n",
      "Requirement already satisfied: msgpack>=1.0.2 in /opt/conda/lib/python3.7/site-packages (from truss<0.2.0,>=0.1.0->baseten) (1.0.4)\n",
      "Requirement already satisfied: numpy>=1.18 in /opt/conda/lib/python3.7/site-packages (from truss<0.2.0,>=0.1.0->baseten) (1.21.6)\n",
      "Requirement already satisfied: msgpack-numpy>=0.4.7.1 in /opt/conda/lib/python3.7/site-packages (from truss<0.2.0,>=0.1.0->baseten) (0.4.8)\n",
      "Requirement already satisfied: packaging<21.0,>=20.9 in /opt/conda/lib/python3.7/site-packages (from truss<0.2.0,>=0.1.0->baseten) (20.9)\n",
      "Requirement already satisfied: zipp>=0.5 in /opt/conda/lib/python3.7/site-packages (from importlib-metadata->click>=7.0->baseten) (3.8.1)\n",
      "Requirement already satisfied: typing-extensions>=3.6.4 in /opt/conda/lib/python3.7/site-packages (from importlib-metadata->click>=7.0->baseten) (4.3.0)\n",
      "Requirement already satisfied: pyparsing>=2.0.2 in /opt/conda/lib/python3.7/site-packages (from packaging<21.0,>=20.9->truss<0.2.0,>=0.1.0->baseten) (2.4.6)\n",
      "Requirement already satisfied: pydantic in /opt/conda/lib/python3.7/site-packages (from python-on-whales<0.47.0,>=0.46.0->truss<0.2.0,>=0.1.0->baseten) (1.10.2)\n",
      "Requirement already satisfied: typer>=0.4.1 in /opt/conda/lib/python3.7/site-packages (from python-on-whales<0.47.0,>=0.46.0->truss<0.2.0,>=0.1.0->baseten) (0.6.1)\n",
      "\u001b[33mWARNING: Running pip as the 'root' user can result in broken permissions and conflicting behaviour with the system package manager. It is recommended to use a virtual environment instead: https://pip.pypa.io/warnings/venv\u001b[0m\u001b[33m\n",
      "\u001b[0m\n",
      "\u001b[1m[\u001b[0m\u001b[34;49mnotice\u001b[0m\u001b[1;39;49m]\u001b[0m\u001b[39;49m A new release of pip available: \u001b[0m\u001b[31;49m22.2.2\u001b[0m\u001b[39;49m -> \u001b[0m\u001b[32;49m22.3\u001b[0m\n",
      "\u001b[1m[\u001b[0m\u001b[34;49mnotice\u001b[0m\u001b[1;39;49m]\u001b[0m\u001b[39;49m To update, run: \u001b[0m\u001b[32;49mpip install --upgrade pip\u001b[0m\n"
     ]
    }
   ],
   "source": [
    "!pip install baseten"
   ]
  },
  {
   "cell_type": "code",
   "execution_count": 25,
   "metadata": {},
   "outputs": [],
   "source": [
    "import baseten, truss"
   ]
  },
  {
   "cell_type": "code",
   "execution_count": 27,
   "metadata": {},
   "outputs": [
    {
     "name": "stderr",
     "output_type": "stream",
     "text": [
      "\u001b[32mINFO\u001b[0m API key set.\n"
     ]
    }
   ],
   "source": [
    "baseten.login(\"A3fqB8JY.1QjabBGm5ChXs8ZElfHRrSqNb3arbffd\")"
   ]
  },
  {
   "cell_type": "code",
   "execution_count": 28,
   "metadata": {},
   "outputs": [],
   "source": [
    "tr = truss.mk_truss(pipe_lr, target_directory=truss_make_dir + \"cancer_classifier_truss\")"
   ]
  },
  {
   "cell_type": "code",
   "execution_count": 20,
   "metadata": {},
   "outputs": [
    {
     "name": "stderr",
     "output_type": "stream",
     "text": [
      "\u001b[32mINFO\u001b[0m Serializing \u001b[34mUpWork Pipeline\u001b[0m truss.\n",
      "\u001b[32mINFO\u001b[0m Making contact with BaseTen 👋 👽\n",
      "\u001b[32mINFO\u001b[0m 🚀 Uploading model to BaseTen 🚀\n",
      "Upload Progress: 100% |\u001b[34m████████████████████████████████████████████████████████████████████████████████████████████████████\u001b[39m| 38.2k/38.2k\n",
      "\u001b[32mINFO\u001b[0m 🔮 Upload successful!🔮\n",
      "\u001b[32mINFO\u001b[0m eyJtb2RlbF90eXBlIjogIk1vZGVsIiwgIm1vZGVsX2ZyYW1ld29yayI6ICJza2xlYXJuIiwgIm1vZGVsX21vZHVsZV9kaXIiOiAibW9kZWwiLCAibW9kZWxfY2xhc3NfZmlsZW5hbWUiOiAibW9kZWwucHkiLCAibW9kZWxfY2xhc3NfbmFtZSI6ICJNb2RlbCIsICJkYXRhX2RpciI6ICJkYXRhIiwgImlucHV0X3R5cGUiOiAiQW55IiwgIm1vZGVsX21ldGFkYXRhIjogeyJtb2RlbF9iaW5hcnlfZGlyIjogIm1vZGVsIiwgInN1cHBvcnRzX3ByZWRpY3RfcHJvYmEiOiB0cnVlfSwgInJlcXVpcmVtZW50cyI6IFsic2NpcHk9PTEuNC4xIiwgIm51bXB5PT0xLjIxLjYiLCAic2Npa2l0LWxlYXJuPT0wLjIyLjEiLCAiYmFzZXRlbj09MC4yLjgiLCAiam9ibGliPT0wLjE0LjEiLCAicGFuZGFzPT0xLjMuNSJdLCAic3lzdGVtX3BhY2thZ2VzIjogW10sICJlbnZpcm9ubWVudF92YXJpYWJsZXMiOiB7fSwgInJlc291cmNlcyI6IHsiY3B1IjogIjUwMG0iLCAibWVtb3J5IjogIjUxMk1pIiwgInVzZV9ncHUiOiBmYWxzZX0sICJweXRob25fdmVyc2lvbiI6ICJweTM3IiwgIm1vZGVsX25hbWUiOiBudWxsLCAiZXhhbXBsZXNfZmlsZW5hbWUiOiAiZXhhbXBsZXMueWFtbCIsICJzZWNyZXRzIjoge30sICJkZXNjcmlwdGlvbiI6IG51bGwsICJidW5kbGVkX3BhY2thZ2VzX2RpciI6ICJwYWNrYWdlcyIsICJzcGVjX3ZlcnNpb24iOiAiMi4wIn0=\n",
      "\u001b[32mINFO\u001b[0m Successfully created version \u001b[34m8w6xegw\u001b[0m for UpWork Pipeline.\n",
      "\u001b[32mINFO\u001b[0m \u001b[34m Deploying model version.\n",
      "\u001b[32mINFO\u001b[0m 🏁 The model is being built and deployed right now 🏁\n",
      "\u001b[32mINFO\u001b[0m -----------------------------------------------------------------------\n",
      "\u001b[32mINFO\u001b[0m |  Visit \u001b[34mhttps://app.baseten.co/models/nBrgrA0\u001b[0m for deployment status  |\n",
      "\u001b[32mINFO\u001b[0m -----------------------------------------------------------------------\n"
     ]
    },
    {
     "data": {
      "text/plain": [
       "BasetenDeployedModel<\n",
       "  model_version_id=8w6xegw\n",
       "  name=UpWork Pipeline\n",
       ">"
      ]
     },
     "execution_count": 20,
     "metadata": {},
     "output_type": "execute_result"
    }
   ],
   "source": [
    "baseten.deploy(tr, model_name=\"UpWork Pipeline\")"
   ]
  },
  {
   "cell_type": "code",
   "execution_count": null,
   "metadata": {},
   "outputs": [],
   "source": []
  }
 ],
 "metadata": {
  "instance_type": "ml.t3.medium",
  "kernelspec": {
   "display_name": "Python 3 (Data Science)",
   "language": "python",
   "name": "python3__SAGEMAKER_INTERNAL__arn:aws:sagemaker:us-west-2:236514542706:image/datascience-1.0"
  },
  "language_info": {
   "codemirror_mode": {
    "name": "ipython",
    "version": 3
   },
   "file_extension": ".py",
   "mimetype": "text/x-python",
   "name": "python",
   "nbconvert_exporter": "python",
   "pygments_lexer": "ipython3",
   "version": "3.7.10"
  },
  "vscode": {
   "interpreter": {
    "hash": "b0fa6594d8f4cbf19f97940f81e996739fb7646882a419484c72d19e05852a7e"
   }
  }
 },
 "nbformat": 4,
 "nbformat_minor": 4
}
